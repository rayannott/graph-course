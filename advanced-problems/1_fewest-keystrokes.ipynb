{
 "cells": [
  {
   "cell_type": "markdown",
   "metadata": {},
   "source": [
    "# **Optimal Keystroke Sequence**\n",
    "\n",
    "## Overview\n",
    "Given a list of strings representing character sequences, determine the **shortest sequence of keystrokes** to \"submit\" all the strings. The available keystrokes are:  \n",
    "1. **Typing characters** (e.g., 'a', 'b', 'c', ..., 'z', '0', '1', ..., '9').  \n",
    "2. **BACKSPACE** ('B') — removes the last typed character.  \n",
    "3. **RETURN** ('R') — submits the current string and prepares for the next one.\n",
    "\n",
    "## Objective\n",
    "Minimize the total number of keystrokes required to submit all strings in the given list, starting from an empty input.\n",
    "\n",
    "\n",
    "## Input\n",
    "- A list of strings $ S = [s_1, s_2, ..., s_n] $, where each $ s_i $ is a non-empty string consisting of alphanumeric characters.\n",
    "\n",
    "## Output\n",
    "- A sequence of keystrokes (including characters, BACKSPACE, and RETURN) that achieves the shortest total length.  \n",
    "\n",
    "\n",
    "## Example\n",
    "\n",
    "- Input:  \n",
    "`S = [\"12\", \"123\", \"124\", \"1235\", \"23\", \"237\", \"25\"]`\n",
    "\n",
    "- Output:\n",
    "`[\"2\", \"5\", \"R\", \"B\", \"3\", \"R\", \"7\", \"R\", \"B\", \"B\", \"B\", \"1\", \"2\", \"R\", \"4\", \"R\", \"B\", \"3\", \"R\", \"5\", \"R\"]`\n",
    "\n",
    "- Explanation:\n",
    "    - Start with adding \"2\" to the initially empty input, then type \"5\" and submit it with RETURN.  \n",
    "    - Use BACKSPACE ('B') to modify the current input and type the next required string efficiently.  \n",
    "    - Repeat until all strings are submitted. "
   ]
  }
 ],
 "metadata": {
  "kernelspec": {
   "display_name": "torchvenv",
   "language": "python",
   "name": "python3"
  },
  "language_info": {
   "name": "python",
   "version": "3.12.1"
  }
 },
 "nbformat": 4,
 "nbformat_minor": 2
}
