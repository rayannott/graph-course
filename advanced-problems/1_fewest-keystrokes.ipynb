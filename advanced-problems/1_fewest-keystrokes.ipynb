{
 "cells": [
  {
   "cell_type": "markdown",
   "metadata": {},
   "source": [
    "# **Optimal Keystroke Sequence**\n",
    "\n",
    "## Overview\n",
    "Given a list of strings representing character sequences, determine the **shortest sequence of keystrokes** to \"submit\" all the strings. The available keystrokes are:  \n",
    "1. **Typing characters** (e.g., 'a', 'b', 'c', ..., 'z', '0', '1', ..., '9').  \n",
    "2. **BACKSPACE** ('B') — removes the last typed character.  \n",
    "3. **RETURN** ('R') — submits the current string and prepares for the next one.\n",
    "\n",
    "## Objective\n",
    "Minimize the total number of keystrokes required to submit all strings in the given list, starting from an empty input.\n",
    "\n",
    "\n",
    "## Input\n",
    "- A list of strings $ S = [s_1, s_2, ..., s_n] $, where each $ s_i $ is a non-empty string consisting of alphanumeric characters.\n",
    "\n",
    "## Output\n",
    "- A sequence of keystrokes (including characters, BACKSPACE, and RETURN) that achieves the shortest total length.  \n",
    "\n",
    "\n",
    "## Example\n",
    "### Example 1\n",
    "- Input:  \n",
    "`[\"12\", \"123\", \"124\", \"1235\", \"23\", \"237\", \"25\"]`\n",
    "\n",
    "- Output:\n",
    "`[\"2\", \"5\", \"R\", \"B\", \"3\", \"R\", \"7\", \"R\", \"B\", \"B\", \"B\", \"1\", \"2\", \"R\", \"4\", \"R\", \"B\", \"3\", \"R\", \"5\", \"R\"]`\n",
    "\n",
    "- Explanation:\n",
    "    - Start with adding \"2\" to the initially empty input, then type \"5\" and submit it with RETURN.  \n",
    "    - Use BACKSPACE ('B') to modify the current input and type the next required string efficiently.  \n",
    "    - Repeat until all strings are submitted. \n",
    "\n",
    "### Example 2\n",
    "- Input:\n",
    "```python\n",
    "[\n",
    "    \"180\",\n",
    "    \"1806\",\n",
    "    \"24\",\n",
    "    \"244\",\n",
    "    \"245\",\n",
    "    \"27\",\n",
    "    \"2777\",\n",
    "    \"277\",\n",
    "    \"2776\",\n",
    "    \"2457\",\n",
    "    \"24579\",\n",
    "    \"187\",\n",
    "    \"185\",\n",
    "    \"1855\",\n",
    "    \"2458\",\n",
    "    \"1870\",\n",
    "    \"18701\",\n",
    "    \"1875\",\n",
    "]\n",
    "\n",
    "- Output:\n",
    "TODO"
   ]
  },
  {
   "cell_type": "code",
   "execution_count": 1,
   "metadata": {
    "metadata": {}
   },
   "outputs": [],
   "source": [
    "example1 = [\"12\", \"123\", \"124\", \"1235\", \"23\", \"237\", \"25\"]"
   ]
  },
  {
   "cell_type": "code",
   "execution_count": null,
   "metadata": {
    "metadata": {}
   },
   "outputs": [],
   "source": [
    "example2 = [\n",
    "    \"180\",\n",
    "    \"1806\",\n",
    "    \"24\",\n",
    "    \"244\",\n",
    "    \"245\",\n",
    "    \"27\",\n",
    "    \"2777\",\n",
    "    \"277\",\n",
    "    \"2776\",\n",
    "    \"2457\",\n",
    "    \"24579\",\n",
    "    \"187\",\n",
    "    \"185\",\n",
    "    \"1855\",\n",
    "    \"2458\",\n",
    "    \"1870\",\n",
    "    \"18701\",\n",
    "    \"1875\",\n",
    "]"
   ]
  },
  {
   "cell_type": "code",
   "execution_count": null,
   "metadata": {},
   "outputs": [],
   "source": [
    "from collections import defaultdict\n",
    "\n",
    "\n",
    "Graph = defaultdict[str, list[str]]\n",
    "\n",
    "\n",
    "def allows_edge(w1: str, w2: str) -> bool:\n",
    "    return len(w2) - len(w1) == 1 and w1 == w2[:-1]\n",
    "\n",
    "\n",
    "def build_graph(sequence: list[str]) -> Graph:\n",
    "    graph: Graph = defaultdict(list)\n",
    "    seq_sorted = sorted(sequence)\n",
    "\n",
    "    for i in range(len(seq_sorted) - 1):\n",
    "        w1 = seq_sorted[i]\n",
    "        w2 = seq_sorted[i + 1]\n",
    "        if allows_edge(w1, w2):\n",
    "            graph[w1].append(w2)\n",
    "            continue\n",
    "        closest_allows = next(\n",
    "            (w for w in reversed(seq_sorted[:i]) if allows_edge(w, w2)), None\n",
    "        )\n",
    "        if closest_allows is not None:\n",
    "            graph[closest_allows].append(w2)\n",
    "    return graph"
   ]
  }
 ],
 "metadata": {
  "kernelspec": {
   "display_name": "torchvenv",
   "language": "python",
   "name": "python3"
  },
  "language_info": {
   "codemirror_mode": {
    "name": "ipython",
    "version": 3
   },
   "file_extension": ".py",
   "mimetype": "text/x-python",
   "name": "python",
   "nbconvert_exporter": "python",
   "pygments_lexer": "ipython3",
   "version": "3.12.1"
  }
 },
 "nbformat": 4,
 "nbformat_minor": 2
}
