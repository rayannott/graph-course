{
 "cells": [
  {
   "cell_type": "markdown",
   "metadata": {},
   "source": [
    "# 0. Introduction"
   ]
  },
  {
   "cell_type": "markdown",
   "metadata": {},
   "source": [
    "## 0.1. Motivation"
   ]
  },
  {
   "cell_type": "markdown",
   "metadata": {},
   "source": [
    "## 0.2. (Some) Definitions\n",
    "\n",
    "In discrete mathematics, a **_graph_** is mathematical stucture defined by a pair \n",
    "$$G = (V, E)$$ \n",
    "where $V$ is the set of _nodes_ (also called _verticies_) and $E$ is a set of _edges_ — pairs of nodes.\n",
    "\n",
    "Visually, nodes are the points and edges are the lines connecting them."
   ]
  },
  {
   "cell_type": "markdown",
   "metadata": {
    "vscode": {
     "languageId": "plaintext"
    }
   },
   "source": [
    "### 0.2.1. Node Set"
   ]
  },
  {
   "cell_type": "markdown",
   "metadata": {},
   "source": [
    "### 0.2.2. Edge Set\n",
    "\n",
    "If an edge between the nodes $v_1$ and $v_2$ exists (that is, $\\{v_1, v_2\\} \\in E$) then such nodes are called _adjacent_.\n",
    "\n",
    "Then,\n",
    "$$ E = \\{  \\{ v_1, v_2 \\} \\; | \\; v_1, v_2 \\in V \\text{ such that } v_1, v_2 \\text{ are adjacent} \\} $$"
   ]
  },
  {
   "cell_type": "markdown",
   "metadata": {
    "vscode": {
     "languageId": "plaintext"
    }
   },
   "source": [
    "### 0.2.3. Walk, trail, path and cycle\n",
    "\n",
    "A _walk_ is a sequence of edges which joins a sequence of nodes $(v_1, v_2, ..., v_k)$ in which any subsequent nodes are adjacent:\n",
    "$$ e_i := \\{v_i, v_{i+1}\\} \\in E \\;\\; \\forall \\, i: \\, 1 \\le i < k. $$\n",
    "\n",
    "A _trail_ is a walk in which all edges are distinct:\n",
    "$$ \\forall \\, i \\neq j: \\; 1 \\leq i,j < k \\;\\; e_i \\neq e_j $$  \n",
    "\n",
    "A _path_ is a trail in which all nodes are distinct.\n",
    "\n",
    "A _cycle_ is a (non-empty) trail in which **only** the first and last nodes are equal: $ v_1 = v_k $.\n",
    "\n",
    "\n",
    "![image](data/images/TrailNotPath.png)"
   ]
  },
  {
   "cell_type": "markdown",
   "metadata": {},
   "source": [
    "Consider this example:\n",
    "- <span style=\"color: lime;\">H-A-B-A-H</span> is a **_closed walk_** (_a walk in which the first and last nodes are equal_; it is not a trail since edges are repeated, it is not a cycle since nodes other than head and tail are repeated)\n",
    "- <span style=\"color: blue;\">B–D–E–F–D–C–B</span> is a **_circuit_** (_a closed walk in which all edges are distinct_; it is then a trail, it is not a cycle for the same reason)\n",
    "- <span style=\"color: red;\">H–D–G–H</span> is a **_cycle_** (_a circuit in which all nodes except head and tail are distinct_)\n",
    "\n",
    "\n",
    "![image](data/images/GraphWalks.png)\n",
    "\n"
   ]
  },
  {
   "cell_type": "markdown",
   "metadata": {},
   "source": [
    "## 0.3. Types of Graphs\n",
    "\n",
    "There exists a great variety of graphs. Let us take a brief look at some of them."
   ]
  },
  {
   "cell_type": "markdown",
   "metadata": {
    "vscode": {
     "languageId": "plaintext"
    }
   },
   "source": [
    "### 0.3.1. (Undirected) Graph\n",
    "\n",
    "This is the simplest type of graphs. It is defined above. Note that its edge set consists of unordered pairs of nodes:\n",
    "$$\\{v_1,v_2\\} := (v_1,v_2) = (v_2, v_1)$$\n",
    "and then\n",
    "$$ (v_1, v_2) \\in E \\implies (v_2, v_1) \\in E $$\n",
    "That is, if $(v_1, v_2)$ is an edge then $(v_2, v_1)$ is also an edge.\n",
    "\n",
    "For example, the following is an undirected graph with three nodes and three edges:\n",
    "\n",
    "![image](data/images/Undirected.png)"
   ]
  },
  {
   "cell_type": "markdown",
   "metadata": {
    "vscode": {
     "languageId": "plaintext"
    }
   },
   "source": [
    "### 0.3.2. Directed Graph (Digraph)\n",
    "\n",
    "This is a type of graph whose edges have direction: so-called _head_ and _tail_.\n",
    "\n",
    "In contrast with the undirected graph, edges are now ordered pairs of nodes:\n",
    "$$ E = \\{  ( v_1, v_2 ) \\; | \\; v_1, v_2 \\in V \\text{ and } v_1 \\neq v_2 \\text{ such that there exists an edge from } v_1 \\text{ to } v_2 \\} $$\n",
    "\n",
    "One can see that an undirected graph is a special case of directed graph.\n",
    "\n",
    "Note: by requiring here that $v_1 \\neq v_2$ we disallow self-connected nodes; otherwise refer to more general _loop-digraphs_.\n",
    "\n",
    "![image](data/images/Directed.png)"
   ]
  },
  {
   "cell_type": "markdown",
   "metadata": {},
   "source": [
    "### 0.3.3. Weighted Graph (Network)\n",
    "\n",
    "This is a graph in which a number (so-called, _weight_) is assigned to each edge:\n",
    "$$ w \\, : \\; E \\rightarrow \\mathbb{R} $$\n",
    "\n",
    "The motivation here is that these weights may represent costs associated with them (e.g. time to cross a road). Then, one can study such graphs and find, for example, the shortest path between two given nodes — a path with minimal total weight: $ \\underset{e_1,...,e_l}{\\argmin} \\sum_{i=1}^l w(e_i) $.\n",
    "\n",
    "![image](data/images/Weighted.png)"
   ]
  },
  {
   "cell_type": "markdown",
   "metadata": {},
   "source": [
    "### 0.3.4. Tree\n",
    "\n",
    "This is a connected acyclic undirected graph. That is, any two nodes are connected by exactly one path.\n",
    "\n",
    "\n",
    "![image](data/images/Tree.png)\n",
    "![image](data/images/BinaryTree.png)"
   ]
  },
  {
   "cell_type": "markdown",
   "metadata": {},
   "source": [
    "## 0.4. Common Questions\n",
    "\n",
    "The following are rather common questions regarding graphs:\n",
    "- how can one enumerate all nodes in a given graph?\n",
    "- is a given graph connected?\n",
    "- is a given graph a tree?\n"
   ]
  },
  {
   "cell_type": "markdown",
   "metadata": {},
   "source": [
    "---\n",
    "- https://en.wikipedia.org/wiki/Graph_(discrete_mathematics)\n",
    "- https://en.wikipedia.org/wiki/Path_(graph_theory)#Definitions\n",
    "- https://en.wikipedia.org/wiki/Cycle_(graph_theory)#Definitions"
   ]
  }
 ],
 "metadata": {
  "kernelspec": {
   "display_name": "torchvenv",
   "language": "python",
   "name": "python3"
  },
  "language_info": {
   "codemirror_mode": {
    "name": "ipython",
    "version": 3
   },
   "file_extension": ".py",
   "mimetype": "text/x-python",
   "name": "python",
   "nbconvert_exporter": "python",
   "pygments_lexer": "ipython3",
   "version": "3.12.1"
  }
 },
 "nbformat": 4,
 "nbformat_minor": 2
}
