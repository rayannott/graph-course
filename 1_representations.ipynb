{
 "cells": [
  {
   "cell_type": "code",
   "execution_count": 1,
   "metadata": {
    "metadata": {}
   },
   "outputs": [],
   "source": [
    "import networkx as nx\n",
    "import numpy as np\n",
    "import matplotlib.pyplot as plt\n",
    "\n",
    "from src.common_types import Edge, Node\n",
    "\n",
    "# plot size\n",
    "plt.rcParams['figure.figsize'] = (6, 4) "
   ]
  },
  {
   "cell_type": "markdown",
   "metadata": {},
   "source": [
    "# 1. Representations\n",
    "\n",
    "Here we consider undirected unweighted graphs (see 0.3.1. in `0_introduction.ipynb`).\n",
    "\n",
    "Let us look into various ways to represent and store graphs in memory, and the trade-offs between them. Moreover, we will discuss how to implement conversion functions between these representations."
   ]
  },
  {
   "cell_type": "markdown",
   "metadata": {},
   "source": [
    "Let us also define some common types here. \n",
    "\n",
    "Note that in general, a node can store any data. Here we set the node type to `int` for simplicity, but a mappping from node to data can be easily implemented (`type NodeData = dict[Node, Anything]`):\n"
   ]
  },
  {
   "cell_type": "code",
   "execution_count": null,
   "metadata": {
    "metadata": {}
   },
   "outputs": [],
   "source": [
    "# let us look at some common types here\n",
    "\n",
    "print(Node)\n",
    "print(Edge)"
   ]
  },
  {
   "cell_type": "markdown",
   "metadata": {},
   "source": [
    "Let's take the following graph as an example. \n",
    "\n",
    "Here we use the `networkx` library to build and visualize the graph. In this course, we will only use it for visualization and validation purposes since we will build our own functionality for graph manipulation."
   ]
  },
  {
   "cell_type": "code",
   "execution_count": null,
   "metadata": {
    "metadata": {}
   },
   "outputs": [],
   "source": [
    "EDGES: list[Edge] = [(0, 1), (0, 2), (0, 3), (1, 2), (2, 3), (3, 0), (3, 4), (3, 5)]\n",
    "\n",
    "g = nx.Graph(EDGES)\n",
    "print(g)"
   ]
  },
  {
   "cell_type": "markdown",
   "metadata": {},
   "source": [
    "Run the next cell to visualize the example graph."
   ]
  },
  {
   "cell_type": "code",
   "execution_count": null,
   "metadata": {
    "metadata": {}
   },
   "outputs": [],
   "source": [
    "pos = nx.spring_layout(g)\n",
    "nx.draw(g, pos, with_labels=True, node_color='lightblue', node_size=700, font_size=10)\n",
    "\n",
    "edge_labels = {edge: idx for idx, edge in enumerate(g.edges)}\n",
    "_ = nx.draw_networkx_edge_labels(g, pos, edge_labels=edge_labels, font_color='red')"
   ]
  },
  {
   "cell_type": "markdown",
   "metadata": {},
   "source": [
    "## Adjacency Matrix\n",
    "\n",
    "The _adjacency matrix_ of a graph $G$ is a matrix of size $n \\times n$, where $n$ is the number of nodes in the graph. The entry $A_{ij}$ is $1$ if there is an edge between nodes $i$ and $j$, and 0 otherwise.\n",
    "\n",
    "$$\n",
    "A = \n",
    "\\begin{pmatrix}\n",
    "0 & 1 & 1 & 1 & 0 & 0 \\\\\n",
    "1 & 0 & 1 & 0 & 0 & 0 \\\\\n",
    "1 & 1 & 0 & 1 & 0 & 0 \\\\\n",
    "1 & 0 & 1 & 0 & 1 & 1 \\\\\n",
    "0 & 0 & 0 & 1 & 0 & 0 \\\\\n",
    "0 & 0 & 0 & 1 & 0 & 0 \\\\\n",
    "\\end{pmatrix}\n",
    "$$\n",
    "\n",
    "Note that the adjacency matrix is symmetric ($A = A^\\text{T}$) for undirected graphs:\n",
    "$$\n",
    "A_{ij} = A_{ji} \\;\\;\\; \\forall i, j\n",
    "$$\n",
    "In other words, if there is an edge between nodes $i$ and $j$, there is also an edge between nodes $j$ and $i$."
   ]
  },
  {
   "cell_type": "code",
   "execution_count": null,
   "metadata": {
    "metadata": {}
   },
   "outputs": [],
   "source": [
    "adjacency_matrix = nx.adjacency_matrix(g).todense()\n",
    "print(adjacency_matrix)"
   ]
  },
  {
   "cell_type": "markdown",
   "metadata": {},
   "source": [
    "Let us verify that the adjacency matrix of the graph above is indeed symmetric."
   ]
  },
  {
   "cell_type": "code",
   "execution_count": null,
   "metadata": {
    "metadata": {}
   },
   "outputs": [],
   "source": [
    "np.all(adjacency_matrix == adjacency_matrix.T)"
   ]
  },
  {
   "cell_type": "markdown",
   "metadata": {},
   "source": [
    "## Incidence Matrix\n",
    "\n",
    "The incidence matrix "
   ]
  },
  {
   "cell_type": "code",
   "execution_count": 7,
   "metadata": {
    "metadata": {}
   },
   "outputs": [],
   "source": [
    "incidence_matrix = nx.incidence_matrix(g, oriented=False)\n",
    "incidence_matrix_dense = incidence_matrix.toarray()"
   ]
  },
  {
   "cell_type": "code",
   "execution_count": null,
   "metadata": {
    "metadata": {}
   },
   "outputs": [],
   "source": [
    "incidence_matrix_dense"
   ]
  },
  {
   "cell_type": "markdown",
   "metadata": {},
   "source": [
    "## Adjacency List"
   ]
  },
  {
   "cell_type": "code",
   "execution_count": null,
   "metadata": {
    "metadata": {}
   },
   "outputs": [],
   "source": [
    "adjacency_list = nx.generate_adjlist(g)\n",
    "print(*adjacency_list)"
   ]
  },
  {
   "cell_type": "markdown",
   "metadata": {},
   "source": [
    "## Edge List"
   ]
  },
  {
   "cell_type": "code",
   "execution_count": null,
   "metadata": {},
   "outputs": [],
   "source": []
  },
  {
   "cell_type": "markdown",
   "metadata": {},
   "source": [
    "# Tasks"
   ]
  },
  {
   "cell_type": "markdown",
   "metadata": {},
   "source": [
    "## Task 1.0. Most Popular Node\n",
    "\n",
    "Let us test the problem submission by starting with a very simple exercise.\n",
    "\n",
    "Given an edge list, find the \"most popular node\" — that is, the node with the most connections. If there are many nodes with the maximum value, return any one of them.\n",
    "\n",
    "What does this task have to do with the _degree matrix_ of a graph?"
   ]
  },
  {
   "cell_type": "code",
   "execution_count": 11,
   "metadata": {
    "metadata": {}
   },
   "outputs": [],
   "source": [
    "def most_popular_node(edges: list[Edge]) -> Node:\n",
    "    raise NotImplementedError"
   ]
  },
  {
   "cell_type": "code",
   "execution_count": null,
   "metadata": {
    "metadata": {}
   },
   "outputs": [],
   "source": [
    "# test most_popular_node\n",
    "\n",
    "assert (res := most_popular_node([(0, 1), (0, 2)])) == 0, f\"{res=}\"\n",
    "assert (res := most_popular_node([(0, 1), (0, 2), (1, 2)])) in [0, 1, 2], f\"{res=}\"\n",
    "assert (\n",
    "    res := most_popular_node(\n",
    "        [(0, 1), (0, 2), (0, 3), (1, 2), (2, 3), (3, 0), (3, 4), (3, 5)]\n",
    "    )\n",
    ") == 3, f\"{res=}\""
   ]
  },
  {
   "cell_type": "markdown",
   "metadata": {},
   "source": [
    "## Task 1.1. Edge List to Adjacency Matrix\n",
    "\n",
    "It is quite common that we need to go from one representation to the other.\n",
    "\n",
    "Convert an edge list of an undirected graph into an adjacency matrix."
   ]
  },
  {
   "cell_type": "code",
   "execution_count": 6,
   "metadata": {
    "metadata": {}
   },
   "outputs": [],
   "source": [
    "from src.representations import edge_list_to_adj_matrix\n",
    "\n",
    "\n",
    "# test edge_list_to_adj_matrix\n",
    "assert np.all((res := edge_list_to_adj_matrix([(0, 1), (1, 0)])) == np.array(\n",
    "    [[0, 1], [1, 0]]\n",
    ")), f\"{res=}\"\n",
    "assert np.all((res := edge_list_to_adj_matrix([(0, 1), (0, 2), (1, 2)])) == np.array(\n",
    "    [[0, 1, 1], [1, 0, 1], [1, 1, 0]]\n",
    ")), f\"{res=}\"\n",
    "assert np.all((\n",
    "    res := edge_list_to_adj_matrix(\n",
    "        [(0, 1), (0, 2), (0, 3), (1, 2), (2, 3), (3, 0), (3, 4), (3, 5)]\n",
    "    )\n",
    ") == np.array(\n",
    "    [\n",
    "        [0, 1, 1, 1, 0, 0],\n",
    "        [1, 0, 1, 0, 0, 0],\n",
    "        [1, 1, 0, 1, 0, 0],\n",
    "        [1, 0, 1, 0, 1, 1],\n",
    "        [0, 0, 0, 1, 0, 0],\n",
    "        [0, 0, 0, 1, 0, 0],\n",
    "    ]\n",
    ")), f\"{res=}\""
   ]
  }
 ],
 "metadata": {
  "kernelspec": {
   "display_name": "torchvenv",
   "language": "python",
   "name": "python3"
  },
  "language_info": {
   "codemirror_mode": {
    "name": "ipython",
    "version": 3
   },
   "file_extension": ".py",
   "mimetype": "text/x-python",
   "name": "python",
   "nbconvert_exporter": "python",
   "pygments_lexer": "ipython3",
   "version": "3.12.1"
  }
 },
 "nbformat": 4,
 "nbformat_minor": 2
}
